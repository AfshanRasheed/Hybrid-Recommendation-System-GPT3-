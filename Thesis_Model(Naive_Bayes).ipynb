{
  "cells": [
    {
      "cell_type": "code",
      "source": [
        "import pandas as pd\n",
        "from google.colab import drive\n",
        "drive.mount('/drive', force_remount=True)\n",
        "import os\n",
        "os.chdir('/drive/My Drive')\n",
        "os.listdir()\n",
        "path=('drive/My drive/Traindata-for-thesis5.csv')"
      ],
      "metadata": {
        "colab": {
          "base_uri": "https://localhost:8080/"
        },
        "id": "PtUu4YYWWY8k",
        "outputId": "2d006e7a-7638-4504-8c09-2c73d1a806b2"
      },
      "execution_count": null,
      "outputs": [
        {
          "output_type": "stream",
          "name": "stdout",
          "text": [
            "Mounted at /drive\n"
          ]
        }
      ]
    },
    {
      "cell_type": "code",
      "source": [
        "!pip install pyspark\n",
        "from pyspark.sql import SparkSession\n",
        "spark = SparkSession.builder.appName(\"amber\").getOrCreate()"
      ],
      "metadata": {
        "application/vnd.databricks.v1+cell": {
          "showTitle": true,
          "cellMetadata": {},
          "nuid": "e0d6b767-5ef5-4c17-b30f-d35f6156b90d",
          "inputWidgets": {},
          "title": "Load Data"
        },
        "id": "iubXdseWWUOZ",
        "colab": {
          "base_uri": "https://localhost:8080/"
        },
        "outputId": "ef80274d-1da1-4dff-fd18-9cef926b0f3c"
      },
      "outputs": [
        {
          "output_type": "stream",
          "name": "stdout",
          "text": [
            "Looking in indexes: https://pypi.org/simple, https://us-python.pkg.dev/colab-wheels/public/simple/\n",
            "Collecting pyspark\n",
            "  Downloading pyspark-3.3.1.tar.gz (281.4 MB)\n",
            "\u001b[K     |████████████████████████████████| 281.4 MB 43 kB/s \n",
            "\u001b[?25hCollecting py4j==0.10.9.5\n",
            "  Downloading py4j-0.10.9.5-py2.py3-none-any.whl (199 kB)\n",
            "\u001b[K     |████████████████████████████████| 199 kB 49.3 MB/s \n",
            "\u001b[?25hBuilding wheels for collected packages: pyspark\n",
            "  Building wheel for pyspark (setup.py) ... \u001b[?25l\u001b[?25hdone\n",
            "  Created wheel for pyspark: filename=pyspark-3.3.1-py2.py3-none-any.whl size=281845512 sha256=6751d9b28b961197dfca5ecb696796987175669ad521870fde65062b6dac87ae\n",
            "  Stored in directory: /root/.cache/pip/wheels/42/59/f5/79a5bf931714dcd201b26025347785f087370a10a3329a899c\n",
            "Successfully built pyspark\n",
            "Installing collected packages: py4j, pyspark\n",
            "Successfully installed py4j-0.10.9.5 pyspark-3.3.1\n"
          ]
        }
      ],
      "execution_count": null
    },
    {
      "cell_type": "code",
      "source": [
        "# path=('drive\\My Drive\\Thesis\\Traindata-for-thesis1.csv')\n",
        "df = spark.read.csv('Traindata-for-thesis5.csv', inferSchema=True,header=True)"
      ],
      "metadata": {
        "id": "tpWPf95rYDrg"
      },
      "execution_count": null,
      "outputs": []
    },
    {
      "cell_type": "code",
      "source": [
        "df.show()"
      ],
      "metadata": {
        "application/vnd.databricks.v1+cell": {
          "showTitle": false,
          "cellMetadata": {},
          "nuid": "ca41522e-2074-4d17-a419-fad96b0fb3c2",
          "inputWidgets": {},
          "title": ""
        },
        "id": "zsDYgF8-WUOd",
        "outputId": "c69795c6-f703-415e-ffd3-334c2248e68a",
        "colab": {
          "base_uri": "https://localhost:8080/"
        }
      },
      "outputs": [
        {
          "output_type": "stream",
          "name": "stdout",
          "text": [
            "+-------------------+--------------------+----------+-------------------+----------------+------------+-------------+----------+--------------+----------+------------------+----------------------+---+--------------------+---------------+-----------------------+-----------------+----------------+\n",
            "|              t_dat|         customer_id|article_id|              price|sales_channel_id|product_code|department_no|index_code|index_group_no|section_no|club_member_status|fashion_news_frequency|age|         postal_code|product_type_no|graphical_appearance_no|colour_group_code|garment_group_no|\n",
            "+-------------------+--------------------+----------+-------------------+----------------+------------+-------------+----------+--------------+----------+------------------+----------------------+---+--------------------+---------------+-----------------------+-----------------+----------------+\n",
            "|2018-11-14 00:00:00|000bb8a3a8be8ad10...| 608776002| 0.0135423727333546|               1|      608776|         3611|         B|             1|        62|            ACTIVE|             Regularly| 32|6a632bf59601ffae2...|            302|                1010016|                9|            1021|\n",
            "|2018-10-23 00:00:00|000fd548002726b75...| 372860001| 0.0115084741264582|               1|      372860|         3611|         B|             1|        62|            ACTIVE|             Regularly| 32|399a721224876f531...|            302|                1010016|                9|            1021|\n",
            "|2018-10-03 00:00:00|00155b2ef48cfb5d2...| 562245005| 0.0338813550770283|               2|      562245|         1722|         A|             1|        15|            ACTIVE|             Regularly| 21|77d01d7a5cf380152...|            272|                1010023|                8|            1009|\n",
            "|2018-10-14 00:00:00|0018a4640de233849...| 542402001| 0.0169322025030851|               2|      542402|         3608|         B|             1|        62|            ACTIVE|             Regularly| 33|fa934d2f604ecd6f9...|            304|                1010016|                9|            1021|\n",
            "|2018-09-29 00:00:00|001ae5408a043f64b...| 108775015|0.00676271179690957|               1|      108775|         1676|         A|             1|        16|            ACTIVE|             Regularly| 50|3247b5db1c4e6523a...|            253|                1010016|                9|            1002|\n",
            "|2018-11-25 00:00:00|001d5c7682ab14ac7...| 399136004| 0.0593050830066204|               2|      399136|         1772|         D|             2|        57|            ACTIVE|             Regularly| 27|b5d36f844f1f3349f...|            272|                1010016|               73|            1016|\n",
            "|2019-01-03 00:00:00|010ec80c67527af66...| 156231001|0.00662711868062615|               1|      156231|         3608|         B|             1|        62|            ACTIVE|             Regularly| 22|08d3feaf0007908c9...|            304|                1010016|                9|            1021|\n",
            "|2018-10-28 00:00:00|010feed5880e2d4cf...| 573716012| 0.0254067797213793|               2|      573716|         1722|         A|             1|        15|            ACTIVE|             Regularly| 27|212d4eba13f5c6d94...|            272|                1010016|                9|            1009|\n",
            "|2018-10-21 00:00:00|0119f485130a77894...| 661306008| 0.0169322025030851|               1|      661306|         1722|         A|             1|        15|            ACTIVE|             Regularly| 61|4a7fa9baf8185bece...|            272|                1010001|               17|            1009|\n",
            "|2018-12-01 00:00:00|011f9696e7921d7d6...| 608776003| 0.0101525420323014|               1|      608776|         3611|         B|             1|        62|            ACTIVE|             Regularly| 55|c8b274b75b117afe5...|            302|                1010020|                9|            1021|\n",
            "|2019-01-14 00:00:00|012829a91e0235aad...| 706016001| 0.0338813550770283|               2|      706016|         1747|         D|             2|        53|            ACTIVE|             Regularly| 25|d6a21e33891ba5132...|            272|                1010016|                9|            1009|\n",
            "|2018-11-19 00:00:00|01296aaa10a4b70b2...| 673799001| 0.0338813550770283|               2|      673799|         1722|         A|             1|        15|            ACTIVE|             Regularly| 26|74a489abd4823c3c3...|            272|                1010016|                9|            1009|\n",
            "|2018-10-17 00:00:00|012a37d9612972f28...| 399201020| 0.0847288146615028|               2|      399201|         1772|         D|             2|        57|            ACTIVE|             Regularly| 23|dd321c7c5485c219d...|            272|                1010023|                8|            1016|\n",
            "|2018-10-07 00:00:00|029d7fe2e43111ebb...| 666006004|  0.118627116084099|               2|      666006|         1201|         A|             1|        19|            ACTIVE|             Regularly| 35|2b2b5e94a28708f3b...|            262|                1010016|                9|            1007|\n",
            "|2019-01-13 00:00:00|02a129f308b8c91dd...| 355569001|  0.005067796446383|               2|      355569|         1643|         D|             2|        51|            ACTIVE|             Regularly| 47|cfde0aeb75c4ff7b3...|            253|                1010016|                9|            1002|\n",
            "|2018-11-08 00:00:00|02a18589e02a6e6f2...| 200182001| 0.0135423727333546|               1|      200182|         3608|         B|             1|        62|            ACTIVE|             Regularly| 25|c77464b655e2568be...|            304|                1010016|                9|            1021|\n",
            "|2018-11-22 00:00:00|02a2fa775c35ee8f7...| 666448001| 0.0203220341354609|               1|      666448|         1626|         A|             1|        15|            ACTIVE|             Regularly| 56|2c29ae653a9282cce...|            252|                1010010|                8|            1003|\n",
            "|2018-10-24 00:00:00|02a5b307d5872cd0d...| 537688015| 0.0406779646873474|               1|      537688|         1626|         A|             1|        15|            ACTIVE|             Regularly| 52|98baa44579161f677...|            252|                1010010|                7|            1003|\n",
            "|2018-11-26 00:00:00|02ab5a1100c48cbc6...| 688873002| 0.0338813550770283|               1|      688873|         1515|         A|             1|        11|            ACTIVE|             Regularly| 56|42f21aeb3a32e18d6...|            258|                1010016|               10|            1010|\n",
            "|2018-11-28 00:00:00|02ac027f22f7618f0...| 649437002| 0.0304915253072977|               2|      649437|         3709|         B|             1|        62|            ACTIVE|             Regularly| 35|3c19c6f292df9a23e...|            297|                1010008|               51|            1017|\n",
            "+-------------------+--------------------+----------+-------------------+----------------+------------+-------------+----------+--------------+----------+------------------+----------------------+---+--------------------+---------------+-----------------------+-----------------+----------------+\n",
            "only showing top 20 rows\n",
            "\n"
          ]
        }
      ],
      "execution_count": null
    },
    {
      "cell_type": "code",
      "source": [
        "# %fs cp dbfs:/FileStore/tables/traindata_eclass17-1.csv file:/project/traindata_eclass17-1.csv"
      ],
      "metadata": {
        "application/vnd.databricks.v1+cell": {
          "showTitle": false,
          "cellMetadata": {},
          "nuid": "83d79a56-8409-487d-a272-110c8b628b26",
          "inputWidgets": {},
          "title": ""
        },
        "id": "FzgiCHAIWUOe"
      },
      "outputs": [],
      "execution_count": null
    },
    {
      "cell_type": "code",
      "source": [
        "# import pandas as pd\n",
        "# traindata = pd.read_csv('/project/traindata_eclass17-1.csv')\n",
        "# traindata.head()"
      ],
      "metadata": {
        "application/vnd.databricks.v1+cell": {
          "showTitle": false,
          "cellMetadata": {},
          "nuid": "40646995-9d6a-42b4-be81-975a8c360894",
          "inputWidgets": {},
          "title": ""
        },
        "id": "reYhD9_4WUOf"
      },
      "outputs": [],
      "execution_count": null
    },
    {
      "cell_type": "code",
      "source": [
        "# # Import label encoder\n",
        "# from sklearn import preprocessing\n",
        "# # label_encoder object knows how to understand word labels.\n",
        "# label_encoder = preprocessing.LabelEncoder()\n",
        "# # Encode labels in column 'species'.\n",
        "# traindata['product_code']= label_encoder.fit_transform(traindata['product_code'])\n",
        "# traindata['customer_id']= label_encoder.fit_transform(traindata['customer_id'])\n",
        "# traindata['article_id']= label_encoder.fit_transform(traindata['article_id'])\n",
        "# traindata['department_no']= label_encoder.fit_transform(traindata['department_no'])\n",
        "# traindata['index_code']= label_encoder.fit_transform(traindata['index_code'])\n",
        "# traindata['section_no']= label_encoder.fit_transform(traindata['section_no'])\n",
        "# traindata['club_member_status']= label_encoder.fit_transform(traindata['club_member_status'])\n",
        "# traindata['fashion_news_frequency']= label_encoder.fit_transform(traindata['fashion_news_frequency'])\n",
        "# traindata['postal_code']= label_encoder.fit_transform(traindata['postal_code'])\n",
        "# traindata['age']= label_encoder.fit_transform(traindata['age'])\n",
        "# traindata['product_type_no']= label_encoder.fit_transform(traindata['product_type_no'])\n",
        "# traindata['graphical_appearance_no']= label_encoder.fit_transform(traindata['graphical_appearance_no'])\n",
        "# traindata['colour_group_code']= label_encoder.fit_transform(traindata['colour_group_code'])\n",
        "# traindata['garment_group_no']= label_encoder.fit_transform(traindata['garment_group_no'])\n",
        "# traindata['t_dat']= label_encoder.fit_transform(traindata['t_dat'])\n",
        "# #traindata['t_dat'].unique()"
      ],
      "metadata": {
        "application/vnd.databricks.v1+cell": {
          "showTitle": true,
          "cellMetadata": {},
          "nuid": "01b06b9a-12e9-4201-bf80-c537075c2a73",
          "inputWidgets": {},
          "title": "Feature Selection( First encode the data into numeric form then apply features selection method)"
        },
        "id": "J_P0xGk0WUOf"
      },
      "outputs": [],
      "execution_count": null
    },
    {
      "cell_type": "code",
      "source": [
        "# y_train = traindata[\"article_id\"]\n",
        "# traindata.drop(labels=\"article_id\", axis=1, inplace=True)\n",
        "# # X_train = traindata"
      ],
      "metadata": {
        "application/vnd.databricks.v1+cell": {
          "showTitle": false,
          "cellMetadata": {},
          "nuid": "936016e1-ad96-43cd-93b4-ffa6ac3dda65",
          "inputWidgets": {},
          "title": ""
        },
        "id": "hVUOH4CQWUOg"
      },
      "outputs": [],
      "execution_count": null
    },
    {
      "cell_type": "code",
      "source": [
        "# from sklearn.ensemble import ExtraTreesClassifier\n",
        "# import matplotlib.pyplot as plt\n",
        "# model = ExtraTreesClassifier()\n",
        "# model.fit(X_train,y_train)"
      ],
      "metadata": {
        "application/vnd.databricks.v1+cell": {
          "showTitle": true,
          "cellMetadata": {},
          "nuid": "3017577b-0a75-4b28-89d4-5efaae13f82e",
          "inputWidgets": {},
          "title": "1- Extra Tree Classifier"
        },
        "id": "Wsc3Nz0_WUOh"
      },
      "outputs": [],
      "execution_count": null
    },
    {
      "cell_type": "code",
      "source": [
        "# print(model.feature_importances_)"
      ],
      "metadata": {
        "application/vnd.databricks.v1+cell": {
          "showTitle": false,
          "cellMetadata": {},
          "nuid": "b4bf2038-79cd-4f35-a39c-e43509f5a55a",
          "inputWidgets": {},
          "title": ""
        },
        "id": "QX9hCwfJWUOh"
      },
      "outputs": [],
      "execution_count": null
    },
    {
      "cell_type": "code",
      "source": [
        "# feat_importances = pd.Series(model.feature_importances_, index=X_train.columns)\n",
        "# feat_importances.nlargest(20).plot(kind='barh')\n",
        "# plt.show()"
      ],
      "metadata": {
        "application/vnd.databricks.v1+cell": {
          "showTitle": false,
          "cellMetadata": {},
          "nuid": "99aca833-95a5-4a64-9e6a-f0f2c5bc1638",
          "inputWidgets": {},
          "title": ""
        },
        "id": "srDto3SiWUOi"
      },
      "outputs": [],
      "execution_count": null
    },
    {
      "cell_type": "code",
      "source": [
        "# import seaborn as sns\n",
        "# corrmat = X_train.corr()\n",
        "# top_corr_features = corrmat.index\n",
        "# plt.figure(figsize=(20,20))\n",
        "# g=sns.heatmap(X_train[top_corr_features].corr(),annot=True,cmap=\"RdYlGn\")"
      ],
      "metadata": {
        "application/vnd.databricks.v1+cell": {
          "showTitle": true,
          "cellMetadata": {},
          "nuid": "07a53d2f-2eb7-40ce-92f1-034172bffec4",
          "inputWidgets": {},
          "title": "2- HeatMap"
        },
        "id": "WHd6t4PKWUOi"
      },
      "outputs": [],
      "execution_count": null
    },
    {
      "cell_type": "code",
      "source": [
        "from pyspark.ml.feature import StringIndexer\n",
        "product_codeIndexer = StringIndexer(inputCol=\"product_code\", outputCol=\"product_codeIndex\")\n",
        "product_type_noIndexer = StringIndexer(inputCol=\"product_type_no\", outputCol=\"product_type_noIndex\")\n",
        "department_noIndexer = StringIndexer(inputCol=\"department_no\", outputCol=\"department_noIndex\")\n",
        "garment_group_noIndexer = StringIndexer(inputCol=\"garment_group_no\", outputCol=\"garment_group_noIndex\")\n",
        "index_codeIndexer = StringIndexer(inputCol=\"index_code\", outputCol=\"index_codeIndex\")\n",
        "section_noIndexer = StringIndexer(inputCol=\"section_no\", outputCol=\"section_noIndex\")\n",
        "colour_group_codeIndexer = StringIndexer(inputCol=\"colour_group_code\", outputCol=\"colour_group_codeIndex\")\n",
        "article_idIndexer = StringIndexer(inputCol=\"article_id\", outputCol=\"label\")\n",
        "#postal_codeindexer = StringIndexer(inputCol=\"postal_code\", outputCol=\"postal_codeIndex\")\n",
        "#fashion_news_frequencyIndexer = StringIndexer(inputCol=\"fashion_news_frequency\", outputCol=\"fashion_news_frequencyIndex\")\n",
        "#club_member_statusIndexer = StringIndexer(inputCol=\"club_member_status\", outputCol=\"club_member_statusIndex\")\n",
        "#customer_idIndexer = StringIndexer(inputCol=\"customer_id\", outputCol=\"customer_idIndex\")\n",
        "#ageIndexer = StringIndexer(inputCol=\"age\", outputCol=\"ageIndex\")\n",
        "#sales_channel_idIndexer = StringIndexer(inputCol=\"sales_channel_id\", outputCol=\"sales_channel_idIndex\")\n",
        "#t_datIndexer = StringIndexer(inputCol=\"t_dat\", outputCol=\"t_datIndex\")\n",
        "#graphical_appearance_noIndexer = StringIndexer(inputCol=\"graphical_appearance_no\", outputCol=\"graphical_appearance_noIndex\")\n",
        "#priceIndexer = StringIndexer(inputCol=\"price\", outputCol=\"priceIndex\")"
      ],
      "metadata": {
        "application/vnd.databricks.v1+cell": {
          "showTitle": true,
          "cellMetadata": {},
          "nuid": "c8972966-6c41-4b3a-9cc4-907bb87e4597",
          "inputWidgets": {},
          "title": "Apply Indexer Technique to apply naive bayes from pyspark utility"
        },
        "id": "okDfRUz2WUOj"
      },
      "outputs": [],
      "execution_count": null
    },
    {
      "cell_type": "code",
      "source": [
        "from pyspark.ml.feature import VectorAssembler\n",
        "from pyspark.ml.linalg import Vector"
      ],
      "metadata": {
        "application/vnd.databricks.v1+cell": {
          "showTitle": true,
          "cellMetadata": {},
          "nuid": "8cfab21d-137d-4823-827e-c648d0cb01b6",
          "inputWidgets": {},
          "title": "VectorAssembler"
        },
        "id": "B1IE1SKaWUOj"
      },
      "outputs": [],
      "execution_count": null
    },
    {
      "cell_type": "code",
      "source": [
        "cleaned = VectorAssembler(inputCols=[ 'product_codeIndex','product_type_noIndex','department_noIndex','garment_group_noIndex','index_codeIndex','section_noIndex','colour_group_codeIndex','price'], outputCol='features')"
      ],
      "metadata": {
        "application/vnd.databricks.v1+cell": {
          "showTitle": false,
          "cellMetadata": {},
          "nuid": "772c3fd5-37a8-443d-95c3-d8d6fbdf85d6",
          "inputWidgets": {},
          "title": ""
        },
        "id": "XEWraeJeWUOj"
      },
      "outputs": [],
      "execution_count": null
    },
    {
      "cell_type": "code",
      "source": [
        "from pyspark.ml.classification import NaiveBayes\n",
        "nb = NaiveBayes(smoothing=1.0, modelType=\"multinomial\")\n",
        "NaiveBayes()"
      ],
      "metadata": {
        "application/vnd.databricks.v1+cell": {
          "showTitle": true,
          "cellMetadata": {},
          "nuid": "52913d7c-35df-4280-9ef4-8148329e5c85",
          "inputWidgets": {},
          "title": "NaiveBayes"
        },
        "id": "4ePO-AATWUOk",
        "outputId": "16fbe9e3-6f89-486f-a020-4e34350506b6",
        "colab": {
          "base_uri": "https://localhost:8080/"
        }
      },
      "outputs": [
        {
          "output_type": "execute_result",
          "data": {
            "text/plain": [
              "NaiveBayes_97b3d2ba8c6c"
            ]
          },
          "metadata": {},
          "execution_count": 18
        }
      ],
      "execution_count": null
    },
    {
      "cell_type": "code",
      "source": [
        "from pyspark.ml import Pipeline"
      ],
      "metadata": {
        "application/vnd.databricks.v1+cell": {
          "showTitle": false,
          "cellMetadata": {},
          "nuid": "7757dff7-4712-4a1b-ae73-9dfb92fc9156",
          "inputWidgets": {},
          "title": ""
        },
        "id": "ZSYfTipxWUOk"
      },
      "outputs": [],
      "execution_count": null
    },
    {
      "cell_type": "code",
      "source": [
        "pipeline = Pipeline(stages=[\n",
        "    article_idIndexer,\n",
        "    product_codeIndexer,\n",
        "    product_type_noIndexer,\n",
        "    department_noIndexer,\n",
        "    garment_group_noIndexer,\n",
        "    index_codeIndexer,\n",
        "    section_noIndexer,\n",
        "    colour_group_codeIndexer,\n",
        "    cleaned                \n",
        "])\n"
      ],
      "metadata": {
        "application/vnd.databricks.v1+cell": {
          "showTitle": false,
          "cellMetadata": {},
          "nuid": "2c0d19c9-cde6-4f74-b5c1-9c85e02f0b6c",
          "inputWidgets": {},
          "title": ""
        },
        "id": "wKbYFWfLWUOk"
      },
      "outputs": [],
      "execution_count": null
    },
    {
      "cell_type": "code",
      "source": [
        "cleaner = pipeline.fit(df.limit(1031179))\n",
        "clean_df = cleaner.transform(df.limit(1031179))\n",
        "#clean_df.show(truncate=True)\n",
        "clean_df = clean_df.select(['label','features'])\n",
        "#clean_df.show()"
      ],
      "metadata": {
        "application/vnd.databricks.v1+cell": {
          "showTitle": false,
          "cellMetadata": {},
          "nuid": "c24fb629-6793-4b90-9b81-2fe72c7711bd",
          "inputWidgets": {},
          "title": ""
        },
        "id": "5CGh-oopWUOk"
      },
      "outputs": [],
      "execution_count": null
    },
    {
      "cell_type": "code",
      "source": [
        "(train,test) = clean_df.randomSplit([8.0, 2.0], seed=42)"
      ],
      "metadata": {
        "application/vnd.databricks.v1+cell": {
          "showTitle": false,
          "cellMetadata": {},
          "nuid": "077c7001-916f-4acd-a024-c53adccc1c8d",
          "inputWidgets": {},
          "title": ""
        },
        "id": "OZ4Bs2kqWUOl"
      },
      "outputs": [],
      "execution_count": null
    },
    {
      "cell_type": "code",
      "source": [
        "pred = nb.fit(train)"
      ],
      "metadata": {
        "application/vnd.databricks.v1+cell": {
          "showTitle": false,
          "cellMetadata": {},
          "nuid": "79746652-69a6-4220-9cd4-b024d2a82496",
          "inputWidgets": {},
          "title": ""
        },
        "id": "-tEQjxU0WUOm"
      },
      "outputs": [],
      "execution_count": null
    },
    {
      "cell_type": "code",
      "source": [
        "res = pred.transform(test)"
      ],
      "metadata": {
        "application/vnd.databricks.v1+cell": {
          "showTitle": false,
          "cellMetadata": {},
          "nuid": "3bede602-6243-4fc1-8c1f-25d2403ed941",
          "inputWidgets": {},
          "title": ""
        },
        "id": "ecbXMtpDWUOm"
      },
      "outputs": [],
      "execution_count": null
    },
    {
      "cell_type": "code",
      "source": [
        "res.show()"
      ],
      "metadata": {
        "application/vnd.databricks.v1+cell": {
          "showTitle": false,
          "cellMetadata": {},
          "nuid": "96c86a77-2cad-4caf-b593-fc8e34d4cb00",
          "inputWidgets": {},
          "title": ""
        },
        "id": "A9ceogtKWUOm",
        "outputId": "71f23d77-c78a-4ba2-c137-48eba38530f4",
        "colab": {
          "base_uri": "https://localhost:8080/"
        }
      },
      "outputs": [
        {
          "output_type": "stream",
          "name": "stdout",
          "text": [
            "+-----+--------------------+--------------------+--------------------+----------+\n",
            "|label|            features|       rawPrediction|         probability|prediction|\n",
            "+-----+--------------------+--------------------+--------------------+----------+\n",
            "|  0.0|[1.0,0.0,1.0,0.0,...|[-15.687465762486...|[0.48686843643360...|       0.0|\n",
            "|  0.0|[1.0,0.0,1.0,0.0,...|[-15.697501496963...|[0.48681029711721...|       0.0|\n",
            "|  0.0|[1.0,0.0,1.0,0.0,...|[-15.697598936580...|[0.48680973192571...|       0.0|\n",
            "|  0.0|[1.0,0.0,1.0,0.0,...|[-15.697598936580...|[0.48680973192571...|       0.0|\n",
            "|  0.0|[1.0,0.0,1.0,0.0,...|[-15.697598936580...|[0.48680973192571...|       0.0|\n",
            "|  0.0|[1.0,0.0,1.0,0.0,...|[-15.697598936580...|[0.48680973192571...|       0.0|\n",
            "|  0.0|[1.0,0.0,1.0,0.0,...|[-15.697598936580...|[0.48680973192571...|       0.0|\n",
            "|  0.0|[1.0,0.0,1.0,0.0,...|[-15.697598936580...|[0.48680973192571...|       0.0|\n",
            "|  0.0|[1.0,0.0,1.0,0.0,...|[-15.703932169051...|[0.48677296756806...|       0.0|\n",
            "|  0.0|[1.0,0.0,1.0,0.0,...|[-15.703932169051...|[0.48677296756806...|       0.0|\n",
            "|  0.0|[1.0,0.0,1.0,0.0,...|[-15.703932169051...|[0.48677296756806...|       0.0|\n",
            "|  0.0|[1.0,0.0,1.0,0.0,...|[-15.703932169051...|[0.48677296756806...|       0.0|\n",
            "|  0.0|[1.0,0.0,1.0,0.0,...|[-15.706270591371...|[0.48675937866828...|       0.0|\n",
            "|  0.0|[1.0,0.0,1.0,0.0,...|[-15.710070532996...|[0.48673728014950...|       0.0|\n",
            "|  0.0|[1.0,0.0,1.0,0.0,...|[-15.710265401522...|[0.48673614634245...|       0.0|\n",
            "|  0.0|[1.0,0.0,1.0,0.0,...|[-15.710265401522...|[0.48673614634245...|       0.0|\n",
            "|  0.0|[1.0,0.0,1.0,0.0,...|[-15.710265401522...|[0.48673614634245...|       0.0|\n",
            "|  0.0|[1.0,0.0,1.0,0.0,...|[-15.710265401522...|[0.48673614634245...|       0.0|\n",
            "|  0.0|[1.0,0.0,1.0,0.0,...|[-15.710265401522...|[0.48673614634245...|       0.0|\n",
            "|  0.0|[1.0,0.0,1.0,0.0,...|[-15.710265401522...|[0.48673614634245...|       0.0|\n",
            "+-----+--------------------+--------------------+--------------------+----------+\n",
            "only showing top 20 rows\n",
            "\n"
          ]
        }
      ],
      "execution_count": null
    },
    {
      "cell_type": "code",
      "source": [
        "from pyspark.ml.evaluation import MulticlassClassificationEvaluator\n",
        "eval = MulticlassClassificationEvaluator()"
      ],
      "metadata": {
        "application/vnd.databricks.v1+cell": {
          "showTitle": false,
          "cellMetadata": {},
          "nuid": "f7518015-9055-4818-9a8f-cce56845c447",
          "inputWidgets": {},
          "title": ""
        },
        "id": "kxsqg_mgWUOm"
      },
      "outputs": [],
      "execution_count": null
    },
    {
      "cell_type": "code",
      "source": [
        "acc = eval.evaluate(res)"
      ],
      "metadata": {
        "application/vnd.databricks.v1+cell": {
          "showTitle": false,
          "cellMetadata": {},
          "nuid": "a65b5a40-791f-46bd-b95b-539c63093402",
          "inputWidgets": {},
          "title": ""
        },
        "id": "Mm8I00A1WUOm"
      },
      "outputs": [],
      "execution_count": null
    },
    {
      "cell_type": "code",
      "source": [
        "print(f\"Accuracy : {acc}\")"
      ],
      "metadata": {
        "application/vnd.databricks.v1+cell": {
          "showTitle": false,
          "cellMetadata": {},
          "nuid": "bfcaeffe-abfe-48f9-8990-703a58f08d43",
          "inputWidgets": {},
          "title": ""
        },
        "id": "GA6nqolSWUOn",
        "outputId": "1bb58a7b-6a40-4a7b-d48a-8a7d6a922bc8",
        "colab": {
          "base_uri": "https://localhost:8080/"
        }
      },
      "outputs": [
        {
          "output_type": "stream",
          "name": "stdout",
          "text": [
            "Accuracy : 0.747681665156735\n"
          ]
        }
      ],
      "execution_count": null
    }
  ],
  "metadata": {
    "application/vnd.databricks.v1+notebook": {
      "notebookName": "Thesis-Models",
      "dashboards": [
        {
          "elements": [
            {
              "elementNUID": "99aca833-95a5-4a64-9e6a-f0f2c5bc1638",
              "dashboardResultIndex": 0,
              "guid": "f66bb12c-4c35-414a-908e-698464b69bf2",
              "resultIndex": null,
              "options": null,
              "position": {
                "x": 0,
                "y": 0,
                "height": 14,
                "width": 24,
                "z": null
              },
              "elementType": "command"
            }
          ],
          "guid": "e4e94692-4d63-4b51-80e6-22822455e901",
          "layoutOption": {
            "stack": true,
            "grid": true
          },
          "version": "DashboardViewV1",
          "nuid": "9deab522-4710-4cdd-be56-bc61032579b1",
          "origId": 4378273868098617,
          "title": "Untitled",
          "width": 1024,
          "globalVars": {}
        }
      ],
      "notebookMetadata": {
        "pythonIndentUnit": 4,
        "mostRecentlyExecutedCommandWithImplicitDF": {
          "commandId": 4378273868098610,
          "dataframes": [
            "_sqldf"
          ]
        }
      },
      "language": "python",
      "widgets": {},
      "notebookOrigID": 4378273868098604
    },
    "colab": {
      "provenance": []
    },
    "language_info": {
      "name": "python"
    },
    "kernelspec": {
      "name": "python3",
      "display_name": "Python 3"
    },
    "gpuClass": "standard",
    "accelerator": "GPU"
  },
  "nbformat": 4,
  "nbformat_minor": 0
}