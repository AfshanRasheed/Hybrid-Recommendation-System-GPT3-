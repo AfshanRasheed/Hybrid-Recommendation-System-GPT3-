{
  "cells": [
    {
      "cell_type": "code",
      "execution_count": null,
      "metadata": {
        "colab": {
          "base_uri": "https://localhost:8080/"
        },
        "id": "Bk8bYID1aqBb",
        "outputId": "6ee28daa-68d5-4e0c-f95e-dd527fea1020"
      },
      "outputs": [
        {
          "output_type": "stream",
          "name": "stdout",
          "text": [
            "Mounted at /drive\n"
          ]
        }
      ],
      "source": [
        "import pandas as pd\n",
        "from google.colab import drive\n",
        "drive.mount('/drive', force_remount=True)\n",
        "import os\n",
        "os.chdir('/drive/My Drive')\n",
        "os.listdir()\n",
        "path=('drive/My drive/Traindata-for-thesis5.csv')\n",
        "#!ls"
      ]
    },
    {
      "cell_type": "code",
      "execution_count": null,
      "metadata": {
        "colab": {
          "base_uri": "https://localhost:8080/",
          "height": 357
        },
        "id": "suVlXxXhaqBj",
        "outputId": "1a313bf2-3c86-4dc5-fcaa-8e96d5a9c1fd"
      },
      "outputs": [
        {
          "output_type": "execute_result",
          "data": {
            "text/plain": [
              "        t_dat                                        customer_id  article_id  \\\n",
              "0  2018-11-14  000bb8a3a8be8ad1039aece8498c0b63f158fa04d8ef95...   608776002   \n",
              "1  2018-10-23  000fd548002726b75586e82114771cf408a6070ea71ba0...   372860001   \n",
              "2  2018-10-03  00155b2ef48cfb5d2fce4642f670f151efe0747542a5b9...   562245005   \n",
              "3  2018-10-14  0018a4640de2338492de0fcc8325d6f6687d0c7980d804...   542402001   \n",
              "4  2018-09-29  001ae5408a043f64bccd32beffe2730151414cbdf18a6e...   108775015   \n",
              "\n",
              "      price  sales_channel_id  product_code  department_no index_code  \\\n",
              "0  0.013542                 1        608776           3611          B   \n",
              "1  0.011508                 1        372860           3611          B   \n",
              "2  0.033881                 2        562245           1722          A   \n",
              "3  0.016932                 2        542402           3608          B   \n",
              "4  0.006763                 1        108775           1676          A   \n",
              "\n",
              "   index_group_no  section_no club_member_status fashion_news_frequency   age  \\\n",
              "0               1          62             ACTIVE              Regularly  32.0   \n",
              "1               1          62             ACTIVE              Regularly  32.0   \n",
              "2               1          15             ACTIVE              Regularly  21.0   \n",
              "3               1          62             ACTIVE              Regularly  33.0   \n",
              "4               1          16             ACTIVE              Regularly  50.0   \n",
              "\n",
              "                                         postal_code  product_type_no  \\\n",
              "0  6a632bf59601ffae21472256dc14dda7e9e89d7d2e60be...              302   \n",
              "1  399a721224876f53159ab05e78c2c277d6c42742e2f15f...              302   \n",
              "2  77d01d7a5cf3801525dd923345e47d079fea7dc14dcfcd...              272   \n",
              "3  fa934d2f604ecd6f997d3a9d82f81722a5023185010217...              304   \n",
              "4  3247b5db1c4e6523a6d1e84eb25183a1cfc8a468eb9fed...              253   \n",
              "\n",
              "   graphical_appearance_no  colour_group_code  garment_group_no  \n",
              "0                  1010016                  9              1021  \n",
              "1                  1010016                  9              1021  \n",
              "2                  1010023                  8              1009  \n",
              "3                  1010016                  9              1021  \n",
              "4                  1010016                  9              1002  "
            ],
            "text/html": [
              "\n",
              "  <div id=\"df-cebc7460-d493-4eed-a145-6841d2f3e734\">\n",
              "    <div class=\"colab-df-container\">\n",
              "      <div>\n",
              "<style scoped>\n",
              "    .dataframe tbody tr th:only-of-type {\n",
              "        vertical-align: middle;\n",
              "    }\n",
              "\n",
              "    .dataframe tbody tr th {\n",
              "        vertical-align: top;\n",
              "    }\n",
              "\n",
              "    .dataframe thead th {\n",
              "        text-align: right;\n",
              "    }\n",
              "</style>\n",
              "<table border=\"1\" class=\"dataframe\">\n",
              "  <thead>\n",
              "    <tr style=\"text-align: right;\">\n",
              "      <th></th>\n",
              "      <th>t_dat</th>\n",
              "      <th>customer_id</th>\n",
              "      <th>article_id</th>\n",
              "      <th>price</th>\n",
              "      <th>sales_channel_id</th>\n",
              "      <th>product_code</th>\n",
              "      <th>department_no</th>\n",
              "      <th>index_code</th>\n",
              "      <th>index_group_no</th>\n",
              "      <th>section_no</th>\n",
              "      <th>club_member_status</th>\n",
              "      <th>fashion_news_frequency</th>\n",
              "      <th>age</th>\n",
              "      <th>postal_code</th>\n",
              "      <th>product_type_no</th>\n",
              "      <th>graphical_appearance_no</th>\n",
              "      <th>colour_group_code</th>\n",
              "      <th>garment_group_no</th>\n",
              "    </tr>\n",
              "  </thead>\n",
              "  <tbody>\n",
              "    <tr>\n",
              "      <th>0</th>\n",
              "      <td>2018-11-14</td>\n",
              "      <td>000bb8a3a8be8ad1039aece8498c0b63f158fa04d8ef95...</td>\n",
              "      <td>608776002</td>\n",
              "      <td>0.013542</td>\n",
              "      <td>1</td>\n",
              "      <td>608776</td>\n",
              "      <td>3611</td>\n",
              "      <td>B</td>\n",
              "      <td>1</td>\n",
              "      <td>62</td>\n",
              "      <td>ACTIVE</td>\n",
              "      <td>Regularly</td>\n",
              "      <td>32.0</td>\n",
              "      <td>6a632bf59601ffae21472256dc14dda7e9e89d7d2e60be...</td>\n",
              "      <td>302</td>\n",
              "      <td>1010016</td>\n",
              "      <td>9</td>\n",
              "      <td>1021</td>\n",
              "    </tr>\n",
              "    <tr>\n",
              "      <th>1</th>\n",
              "      <td>2018-10-23</td>\n",
              "      <td>000fd548002726b75586e82114771cf408a6070ea71ba0...</td>\n",
              "      <td>372860001</td>\n",
              "      <td>0.011508</td>\n",
              "      <td>1</td>\n",
              "      <td>372860</td>\n",
              "      <td>3611</td>\n",
              "      <td>B</td>\n",
              "      <td>1</td>\n",
              "      <td>62</td>\n",
              "      <td>ACTIVE</td>\n",
              "      <td>Regularly</td>\n",
              "      <td>32.0</td>\n",
              "      <td>399a721224876f53159ab05e78c2c277d6c42742e2f15f...</td>\n",
              "      <td>302</td>\n",
              "      <td>1010016</td>\n",
              "      <td>9</td>\n",
              "      <td>1021</td>\n",
              "    </tr>\n",
              "    <tr>\n",
              "      <th>2</th>\n",
              "      <td>2018-10-03</td>\n",
              "      <td>00155b2ef48cfb5d2fce4642f670f151efe0747542a5b9...</td>\n",
              "      <td>562245005</td>\n",
              "      <td>0.033881</td>\n",
              "      <td>2</td>\n",
              "      <td>562245</td>\n",
              "      <td>1722</td>\n",
              "      <td>A</td>\n",
              "      <td>1</td>\n",
              "      <td>15</td>\n",
              "      <td>ACTIVE</td>\n",
              "      <td>Regularly</td>\n",
              "      <td>21.0</td>\n",
              "      <td>77d01d7a5cf3801525dd923345e47d079fea7dc14dcfcd...</td>\n",
              "      <td>272</td>\n",
              "      <td>1010023</td>\n",
              "      <td>8</td>\n",
              "      <td>1009</td>\n",
              "    </tr>\n",
              "    <tr>\n",
              "      <th>3</th>\n",
              "      <td>2018-10-14</td>\n",
              "      <td>0018a4640de2338492de0fcc8325d6f6687d0c7980d804...</td>\n",
              "      <td>542402001</td>\n",
              "      <td>0.016932</td>\n",
              "      <td>2</td>\n",
              "      <td>542402</td>\n",
              "      <td>3608</td>\n",
              "      <td>B</td>\n",
              "      <td>1</td>\n",
              "      <td>62</td>\n",
              "      <td>ACTIVE</td>\n",
              "      <td>Regularly</td>\n",
              "      <td>33.0</td>\n",
              "      <td>fa934d2f604ecd6f997d3a9d82f81722a5023185010217...</td>\n",
              "      <td>304</td>\n",
              "      <td>1010016</td>\n",
              "      <td>9</td>\n",
              "      <td>1021</td>\n",
              "    </tr>\n",
              "    <tr>\n",
              "      <th>4</th>\n",
              "      <td>2018-09-29</td>\n",
              "      <td>001ae5408a043f64bccd32beffe2730151414cbdf18a6e...</td>\n",
              "      <td>108775015</td>\n",
              "      <td>0.006763</td>\n",
              "      <td>1</td>\n",
              "      <td>108775</td>\n",
              "      <td>1676</td>\n",
              "      <td>A</td>\n",
              "      <td>1</td>\n",
              "      <td>16</td>\n",
              "      <td>ACTIVE</td>\n",
              "      <td>Regularly</td>\n",
              "      <td>50.0</td>\n",
              "      <td>3247b5db1c4e6523a6d1e84eb25183a1cfc8a468eb9fed...</td>\n",
              "      <td>253</td>\n",
              "      <td>1010016</td>\n",
              "      <td>9</td>\n",
              "      <td>1002</td>\n",
              "    </tr>\n",
              "  </tbody>\n",
              "</table>\n",
              "</div>\n",
              "      <button class=\"colab-df-convert\" onclick=\"convertToInteractive('df-cebc7460-d493-4eed-a145-6841d2f3e734')\"\n",
              "              title=\"Convert this dataframe to an interactive table.\"\n",
              "              style=\"display:none;\">\n",
              "        \n",
              "  <svg xmlns=\"http://www.w3.org/2000/svg\" height=\"24px\"viewBox=\"0 0 24 24\"\n",
              "       width=\"24px\">\n",
              "    <path d=\"M0 0h24v24H0V0z\" fill=\"none\"/>\n",
              "    <path d=\"M18.56 5.44l.94 2.06.94-2.06 2.06-.94-2.06-.94-.94-2.06-.94 2.06-2.06.94zm-11 1L8.5 8.5l.94-2.06 2.06-.94-2.06-.94L8.5 2.5l-.94 2.06-2.06.94zm10 10l.94 2.06.94-2.06 2.06-.94-2.06-.94-.94-2.06-.94 2.06-2.06.94z\"/><path d=\"M17.41 7.96l-1.37-1.37c-.4-.4-.92-.59-1.43-.59-.52 0-1.04.2-1.43.59L10.3 9.45l-7.72 7.72c-.78.78-.78 2.05 0 2.83L4 21.41c.39.39.9.59 1.41.59.51 0 1.02-.2 1.41-.59l7.78-7.78 2.81-2.81c.8-.78.8-2.07 0-2.86zM5.41 20L4 18.59l7.72-7.72 1.47 1.35L5.41 20z\"/>\n",
              "  </svg>\n",
              "      </button>\n",
              "      \n",
              "  <style>\n",
              "    .colab-df-container {\n",
              "      display:flex;\n",
              "      flex-wrap:wrap;\n",
              "      gap: 12px;\n",
              "    }\n",
              "\n",
              "    .colab-df-convert {\n",
              "      background-color: #E8F0FE;\n",
              "      border: none;\n",
              "      border-radius: 50%;\n",
              "      cursor: pointer;\n",
              "      display: none;\n",
              "      fill: #1967D2;\n",
              "      height: 32px;\n",
              "      padding: 0 0 0 0;\n",
              "      width: 32px;\n",
              "    }\n",
              "\n",
              "    .colab-df-convert:hover {\n",
              "      background-color: #E2EBFA;\n",
              "      box-shadow: 0px 1px 2px rgba(60, 64, 67, 0.3), 0px 1px 3px 1px rgba(60, 64, 67, 0.15);\n",
              "      fill: #174EA6;\n",
              "    }\n",
              "\n",
              "    [theme=dark] .colab-df-convert {\n",
              "      background-color: #3B4455;\n",
              "      fill: #D2E3FC;\n",
              "    }\n",
              "\n",
              "    [theme=dark] .colab-df-convert:hover {\n",
              "      background-color: #434B5C;\n",
              "      box-shadow: 0px 1px 3px 1px rgba(0, 0, 0, 0.15);\n",
              "      filter: drop-shadow(0px 1px 2px rgba(0, 0, 0, 0.3));\n",
              "      fill: #FFFFFF;\n",
              "    }\n",
              "  </style>\n",
              "\n",
              "      <script>\n",
              "        const buttonEl =\n",
              "          document.querySelector('#df-cebc7460-d493-4eed-a145-6841d2f3e734 button.colab-df-convert');\n",
              "        buttonEl.style.display =\n",
              "          google.colab.kernel.accessAllowed ? 'block' : 'none';\n",
              "\n",
              "        async function convertToInteractive(key) {\n",
              "          const element = document.querySelector('#df-cebc7460-d493-4eed-a145-6841d2f3e734');\n",
              "          const dataTable =\n",
              "            await google.colab.kernel.invokeFunction('convertToInteractive',\n",
              "                                                     [key], {});\n",
              "          if (!dataTable) return;\n",
              "\n",
              "          const docLinkHtml = 'Like what you see? Visit the ' +\n",
              "            '<a target=\"_blank\" href=https://colab.research.google.com/notebooks/data_table.ipynb>data table notebook</a>'\n",
              "            + ' to learn more about interactive tables.';\n",
              "          element.innerHTML = '';\n",
              "          dataTable['output_type'] = 'display_data';\n",
              "          await google.colab.output.renderOutput(dataTable, element);\n",
              "          const docLink = document.createElement('div');\n",
              "          docLink.innerHTML = docLinkHtml;\n",
              "          element.appendChild(docLink);\n",
              "        }\n",
              "      </script>\n",
              "    </div>\n",
              "  </div>\n",
              "  "
            ]
          },
          "metadata": {},
          "execution_count": 2
        }
      ],
      "source": [
        "# !pip install pandas\n",
        "import pandas as pd\n",
        "traindata = pd.read_csv('Traindata-for-thesis5.csv')\n",
        "traindata.head()"
      ]
    },
    {
      "cell_type": "code",
      "execution_count": null,
      "metadata": {
        "id": "H4vN2eGEaqBj"
      },
      "outputs": [],
      "source": [
        "# Import label encoder\n",
        "from sklearn import preprocessing\n",
        "  \n",
        "# label_encoder object knows how to understand word labels.\n",
        "label_encoder = preprocessing.LabelEncoder()\n",
        "  \n",
        "# Encode labels in column 'species'.\n",
        "traindata['product_code']= label_encoder.fit_transform(traindata['product_code'])\n",
        "traindata['customer_id']= label_encoder.fit_transform(traindata['customer_id'])\n",
        "traindata['article_id']= label_encoder.fit_transform(traindata['article_id'])\n",
        "traindata['department_no']= label_encoder.fit_transform(traindata['department_no'])\n",
        "traindata['index_code']= label_encoder.fit_transform(traindata['index_code'])\n",
        "traindata['section_no']= label_encoder.fit_transform(traindata['section_no'])\n",
        "traindata['club_member_status']= label_encoder.fit_transform(traindata['club_member_status'])\n",
        "traindata['fashion_news_frequency']= label_encoder.fit_transform(traindata['fashion_news_frequency'])\n",
        "traindata['postal_code']= label_encoder.fit_transform(traindata['postal_code'])\n",
        "traindata['age']= label_encoder.fit_transform(traindata['age'])\n",
        "traindata['product_type_no']= label_encoder.fit_transform(traindata['product_type_no'])\n",
        "traindata['graphical_appearance_no']= label_encoder.fit_transform(traindata['graphical_appearance_no'])\n",
        "traindata['colour_group_code']= label_encoder.fit_transform(traindata['colour_group_code'])\n",
        "traindata['garment_group_no']= label_encoder.fit_transform(traindata['garment_group_no'])\n",
        "traindata['t_dat']= label_encoder.fit_transform(traindata['t_dat'])\n",
        "#traindata['t_dat'].unique()"
      ]
    },
    {
      "cell_type": "code",
      "execution_count": null,
      "metadata": {
        "colab": {
          "base_uri": "https://localhost:8080/",
          "height": 270
        },
        "id": "kvz0ESkeaqBk",
        "outputId": "e506294f-423c-47ea-892c-2e4c4f01e7bd"
      },
      "outputs": [
        {
          "output_type": "execute_result",
          "data": {
            "text/plain": [
              "   t_dat  customer_id  article_id     price  sales_channel_id  product_code  \\\n",
              "0     55           10          73  0.013542                 1            46   \n",
              "1     33           12          11  0.011508                 1            11   \n",
              "2     13           16          55  0.033881                 2            37   \n",
              "3     24           19          48  0.016932                 2            33   \n",
              "4      9           21           0  0.006763                 1             0   \n",
              "\n",
              "   department_no  index_code  index_group_no  section_no  club_member_status  \\\n",
              "0             25           1               1          11                   0   \n",
              "1             25           1               1          11                   0   \n",
              "2             17           0               1           2                   0   \n",
              "3             24           1               1          11                   0   \n",
              "4             16           0               1           3                   0   \n",
              "\n",
              "   fashion_news_frequency  age  postal_code  product_type_no  \\\n",
              "0                       2   16        27208               19   \n",
              "1                       2   16        14673               19   \n",
              "2                       2    5        30692               13   \n",
              "3                       2   17        64030               20   \n",
              "4                       2   34        12889                5   \n",
              "\n",
              "   graphical_appearance_no  colour_group_code  garment_group_no  \n",
              "0                        6                  3                12  \n",
              "1                        6                  3                12  \n",
              "2                       11                  2                 5  \n",
              "3                        6                  3                12  \n",
              "4                        6                  3                 0  "
            ],
            "text/html": [
              "\n",
              "  <div id=\"df-98aada6a-5f39-492b-83a4-7b8ff9e90b5a\">\n",
              "    <div class=\"colab-df-container\">\n",
              "      <div>\n",
              "<style scoped>\n",
              "    .dataframe tbody tr th:only-of-type {\n",
              "        vertical-align: middle;\n",
              "    }\n",
              "\n",
              "    .dataframe tbody tr th {\n",
              "        vertical-align: top;\n",
              "    }\n",
              "\n",
              "    .dataframe thead th {\n",
              "        text-align: right;\n",
              "    }\n",
              "</style>\n",
              "<table border=\"1\" class=\"dataframe\">\n",
              "  <thead>\n",
              "    <tr style=\"text-align: right;\">\n",
              "      <th></th>\n",
              "      <th>t_dat</th>\n",
              "      <th>customer_id</th>\n",
              "      <th>article_id</th>\n",
              "      <th>price</th>\n",
              "      <th>sales_channel_id</th>\n",
              "      <th>product_code</th>\n",
              "      <th>department_no</th>\n",
              "      <th>index_code</th>\n",
              "      <th>index_group_no</th>\n",
              "      <th>section_no</th>\n",
              "      <th>club_member_status</th>\n",
              "      <th>fashion_news_frequency</th>\n",
              "      <th>age</th>\n",
              "      <th>postal_code</th>\n",
              "      <th>product_type_no</th>\n",
              "      <th>graphical_appearance_no</th>\n",
              "      <th>colour_group_code</th>\n",
              "      <th>garment_group_no</th>\n",
              "    </tr>\n",
              "  </thead>\n",
              "  <tbody>\n",
              "    <tr>\n",
              "      <th>0</th>\n",
              "      <td>55</td>\n",
              "      <td>10</td>\n",
              "      <td>73</td>\n",
              "      <td>0.013542</td>\n",
              "      <td>1</td>\n",
              "      <td>46</td>\n",
              "      <td>25</td>\n",
              "      <td>1</td>\n",
              "      <td>1</td>\n",
              "      <td>11</td>\n",
              "      <td>0</td>\n",
              "      <td>2</td>\n",
              "      <td>16</td>\n",
              "      <td>27208</td>\n",
              "      <td>19</td>\n",
              "      <td>6</td>\n",
              "      <td>3</td>\n",
              "      <td>12</td>\n",
              "    </tr>\n",
              "    <tr>\n",
              "      <th>1</th>\n",
              "      <td>33</td>\n",
              "      <td>12</td>\n",
              "      <td>11</td>\n",
              "      <td>0.011508</td>\n",
              "      <td>1</td>\n",
              "      <td>11</td>\n",
              "      <td>25</td>\n",
              "      <td>1</td>\n",
              "      <td>1</td>\n",
              "      <td>11</td>\n",
              "      <td>0</td>\n",
              "      <td>2</td>\n",
              "      <td>16</td>\n",
              "      <td>14673</td>\n",
              "      <td>19</td>\n",
              "      <td>6</td>\n",
              "      <td>3</td>\n",
              "      <td>12</td>\n",
              "    </tr>\n",
              "    <tr>\n",
              "      <th>2</th>\n",
              "      <td>13</td>\n",
              "      <td>16</td>\n",
              "      <td>55</td>\n",
              "      <td>0.033881</td>\n",
              "      <td>2</td>\n",
              "      <td>37</td>\n",
              "      <td>17</td>\n",
              "      <td>0</td>\n",
              "      <td>1</td>\n",
              "      <td>2</td>\n",
              "      <td>0</td>\n",
              "      <td>2</td>\n",
              "      <td>5</td>\n",
              "      <td>30692</td>\n",
              "      <td>13</td>\n",
              "      <td>11</td>\n",
              "      <td>2</td>\n",
              "      <td>5</td>\n",
              "    </tr>\n",
              "    <tr>\n",
              "      <th>3</th>\n",
              "      <td>24</td>\n",
              "      <td>19</td>\n",
              "      <td>48</td>\n",
              "      <td>0.016932</td>\n",
              "      <td>2</td>\n",
              "      <td>33</td>\n",
              "      <td>24</td>\n",
              "      <td>1</td>\n",
              "      <td>1</td>\n",
              "      <td>11</td>\n",
              "      <td>0</td>\n",
              "      <td>2</td>\n",
              "      <td>17</td>\n",
              "      <td>64030</td>\n",
              "      <td>20</td>\n",
              "      <td>6</td>\n",
              "      <td>3</td>\n",
              "      <td>12</td>\n",
              "    </tr>\n",
              "    <tr>\n",
              "      <th>4</th>\n",
              "      <td>9</td>\n",
              "      <td>21</td>\n",
              "      <td>0</td>\n",
              "      <td>0.006763</td>\n",
              "      <td>1</td>\n",
              "      <td>0</td>\n",
              "      <td>16</td>\n",
              "      <td>0</td>\n",
              "      <td>1</td>\n",
              "      <td>3</td>\n",
              "      <td>0</td>\n",
              "      <td>2</td>\n",
              "      <td>34</td>\n",
              "      <td>12889</td>\n",
              "      <td>5</td>\n",
              "      <td>6</td>\n",
              "      <td>3</td>\n",
              "      <td>0</td>\n",
              "    </tr>\n",
              "  </tbody>\n",
              "</table>\n",
              "</div>\n",
              "      <button class=\"colab-df-convert\" onclick=\"convertToInteractive('df-98aada6a-5f39-492b-83a4-7b8ff9e90b5a')\"\n",
              "              title=\"Convert this dataframe to an interactive table.\"\n",
              "              style=\"display:none;\">\n",
              "        \n",
              "  <svg xmlns=\"http://www.w3.org/2000/svg\" height=\"24px\"viewBox=\"0 0 24 24\"\n",
              "       width=\"24px\">\n",
              "    <path d=\"M0 0h24v24H0V0z\" fill=\"none\"/>\n",
              "    <path d=\"M18.56 5.44l.94 2.06.94-2.06 2.06-.94-2.06-.94-.94-2.06-.94 2.06-2.06.94zm-11 1L8.5 8.5l.94-2.06 2.06-.94-2.06-.94L8.5 2.5l-.94 2.06-2.06.94zm10 10l.94 2.06.94-2.06 2.06-.94-2.06-.94-.94-2.06-.94 2.06-2.06.94z\"/><path d=\"M17.41 7.96l-1.37-1.37c-.4-.4-.92-.59-1.43-.59-.52 0-1.04.2-1.43.59L10.3 9.45l-7.72 7.72c-.78.78-.78 2.05 0 2.83L4 21.41c.39.39.9.59 1.41.59.51 0 1.02-.2 1.41-.59l7.78-7.78 2.81-2.81c.8-.78.8-2.07 0-2.86zM5.41 20L4 18.59l7.72-7.72 1.47 1.35L5.41 20z\"/>\n",
              "  </svg>\n",
              "      </button>\n",
              "      \n",
              "  <style>\n",
              "    .colab-df-container {\n",
              "      display:flex;\n",
              "      flex-wrap:wrap;\n",
              "      gap: 12px;\n",
              "    }\n",
              "\n",
              "    .colab-df-convert {\n",
              "      background-color: #E8F0FE;\n",
              "      border: none;\n",
              "      border-radius: 50%;\n",
              "      cursor: pointer;\n",
              "      display: none;\n",
              "      fill: #1967D2;\n",
              "      height: 32px;\n",
              "      padding: 0 0 0 0;\n",
              "      width: 32px;\n",
              "    }\n",
              "\n",
              "    .colab-df-convert:hover {\n",
              "      background-color: #E2EBFA;\n",
              "      box-shadow: 0px 1px 2px rgba(60, 64, 67, 0.3), 0px 1px 3px 1px rgba(60, 64, 67, 0.15);\n",
              "      fill: #174EA6;\n",
              "    }\n",
              "\n",
              "    [theme=dark] .colab-df-convert {\n",
              "      background-color: #3B4455;\n",
              "      fill: #D2E3FC;\n",
              "    }\n",
              "\n",
              "    [theme=dark] .colab-df-convert:hover {\n",
              "      background-color: #434B5C;\n",
              "      box-shadow: 0px 1px 3px 1px rgba(0, 0, 0, 0.15);\n",
              "      filter: drop-shadow(0px 1px 2px rgba(0, 0, 0, 0.3));\n",
              "      fill: #FFFFFF;\n",
              "    }\n",
              "  </style>\n",
              "\n",
              "      <script>\n",
              "        const buttonEl =\n",
              "          document.querySelector('#df-98aada6a-5f39-492b-83a4-7b8ff9e90b5a button.colab-df-convert');\n",
              "        buttonEl.style.display =\n",
              "          google.colab.kernel.accessAllowed ? 'block' : 'none';\n",
              "\n",
              "        async function convertToInteractive(key) {\n",
              "          const element = document.querySelector('#df-98aada6a-5f39-492b-83a4-7b8ff9e90b5a');\n",
              "          const dataTable =\n",
              "            await google.colab.kernel.invokeFunction('convertToInteractive',\n",
              "                                                     [key], {});\n",
              "          if (!dataTable) return;\n",
              "\n",
              "          const docLinkHtml = 'Like what you see? Visit the ' +\n",
              "            '<a target=\"_blank\" href=https://colab.research.google.com/notebooks/data_table.ipynb>data table notebook</a>'\n",
              "            + ' to learn more about interactive tables.';\n",
              "          element.innerHTML = '';\n",
              "          dataTable['output_type'] = 'display_data';\n",
              "          await google.colab.output.renderOutput(dataTable, element);\n",
              "          const docLink = document.createElement('div');\n",
              "          docLink.innerHTML = docLinkHtml;\n",
              "          element.appendChild(docLink);\n",
              "        }\n",
              "      </script>\n",
              "    </div>\n",
              "  </div>\n",
              "  "
            ]
          },
          "metadata": {},
          "execution_count": 4
        }
      ],
      "source": [
        "traindata.head()"
      ]
    },
    {
      "cell_type": "code",
      "execution_count": null,
      "metadata": {
        "id": "qIOHN6dsaqBk"
      },
      "outputs": [],
      "source": [
        "from sklearn.preprocessing import MinMaxScaler\n",
        "from sklearn.model_selection import train_test_split\n",
        "from sklearn.metrics import classification_report, confusion_matrix\n",
        "from sklearn.ensemble import GradientBoostingClassifier"
      ]
    },
    {
      "cell_type": "code",
      "execution_count": null,
      "metadata": {
        "id": "UT1ot3c3aqBl"
      },
      "outputs": [],
      "source": [
        "y_train = traindata[\"article_id\"]\n",
        "traindata.drop(labels=\"article_id\", axis=1, inplace=True)\n",
        "#traindata.drop(labels=\"t_dat\", axis=1, inplace=True)\n",
        "#traindata.drop(labels=\"customer_id\", axis=1, inplace=True)\n",
        "X_train = traindata"
      ]
    },
    {
      "cell_type": "code",
      "execution_count": null,
      "metadata": {
        "id": "ft4u0MykaqBl"
      },
      "outputs": [],
      "source": [
        "# #from sklearn.ensemble import ExtraTreesClassifier\n",
        "# #import matplotlib.pyplot as plt\n",
        "# model = ExtraTreesClassifier()\n",
        "# model.fit(X_train,y_train)"
      ]
    },
    {
      "cell_type": "code",
      "execution_count": null,
      "metadata": {
        "id": "FsmpeMEKaqBl"
      },
      "outputs": [],
      "source": [
        "# print(model.feature_importances_)"
      ]
    },
    {
      "cell_type": "code",
      "execution_count": null,
      "metadata": {
        "id": "-n_cjrI_aqBm"
      },
      "outputs": [],
      "source": [
        "# feat_importances = pd.Series(model.feature_importances_, index=X_train.columns)\n",
        "# feat_importances.nlargest(20).plot(kind='barh')\n",
        "# # plt.show()"
      ]
    },
    {
      "cell_type": "code",
      "execution_count": null,
      "metadata": {
        "id": "8kg5s-nDaqBm"
      },
      "outputs": [],
      "source": [
        "# import seaborn as sns\n",
        "# corrmat = X_train.corr()\n",
        "# top_corr_features = corrmat.index\n",
        "# # plt.figure(figsize=(20,20))\n",
        "# g=sns.heatmap(X_train[top_corr_features].corr(),annot=True,cmap=\"RdYlGn\")"
      ]
    },
    {
      "cell_type": "code",
      "execution_count": null,
      "metadata": {
        "id": "DOYRWun1aqBm"
      },
      "outputs": [],
      "source": [
        "#y_train= y_train.values[0:4440]\n",
        "#X_train = traindata.values[0:4440]\n",
        "#X_test = traindata.values[4440:]\n"
      ]
    },
    {
      "cell_type": "code",
      "execution_count": null,
      "metadata": {
        "id": "Oxm3Agc3aqBm"
      },
      "outputs": [],
      "source": [
        "#scaler = MinMaxScaler()\n",
        "#X_train = scaler.fit_transform(X_train)\n",
        "#X_test = scaler.transform(X_test)"
      ]
    },
    {
      "cell_type": "code",
      "execution_count": null,
      "metadata": {
        "id": "R3QlZkZRaqBn"
      },
      "outputs": [],
      "source": [
        "#state = 12  \n",
        "#test_size = 0.30  \n",
        "  \n",
        "#X_train, X_val, y_train, y_val = train_test_split(X_train, y_train,test_size=test_size, random_state=state)"
      ]
    },
    {
      "cell_type": "code",
      "execution_count": null,
      "metadata": {
        "id": "3ARezlbaaqBn"
      },
      "outputs": [],
      "source": [
        "from sklearn.model_selection import train_test_split\n",
        "from sklearn.metrics import accuracy_score\n",
        "from sklearn.tree import DecisionTreeClassifier"
      ]
    },
    {
      "cell_type": "code",
      "execution_count": null,
      "metadata": {
        "id": "deYYlmPAaqBn"
      },
      "outputs": [],
      "source": [
        "X_train, X_test, y_train, y_test = train_test_split(traindata,y_train, test_size = 0.25, random_state = 22)"
      ]
    },
    {
      "cell_type": "code",
      "source": [
        "from sklearn.neighbors import KNeighborsClassifier\n",
        "from sklearn.metrics import accuracy_score\n",
        "from sklearn.metrics import classification_report\n",
        "from sklearn.metrics import confusion_matrix\n",
        "\n",
        "X = X_train\n",
        "y = y_train\n",
        "\n",
        "Knnc = KNeighborsClassifier(n_neighbors=50)\n",
        "Knnc.fit(X,y)\n",
        "y_pred = Knnc.predict(X_train)\n",
        "\n",
        "print(accuracy_score(y_train, y_pred)) "
      ],
      "metadata": {
        "colab": {
          "base_uri": "https://localhost:8080/"
        },
        "id": "14ARi-TMNqa4",
        "outputId": "59eab5f3-c839-4d02-b01c-4e42a6d8cf6e"
      },
      "execution_count": null,
      "outputs": [
        {
          "output_type": "stream",
          "name": "stdout",
          "text": [
            "0.08458343716255504\n"
          ]
        }
      ]
    },
    {
      "cell_type": "code",
      "execution_count": null,
      "metadata": {
        "id": "RS--iq4SaqBn"
      },
      "outputs": [],
      "source": [
        "from sklearn import model_selection\n",
        "from sklearn.ensemble import BaggingClassifier\n",
        "from sklearn.tree import DecisionTreeClassifier"
      ]
    },
    {
      "cell_type": "code",
      "execution_count": null,
      "metadata": {
        "colab": {
          "base_uri": "https://localhost:8080/"
        },
        "id": "bMzJmGnAaqBn",
        "outputId": "0fdf52d8-8f80-4021-9db0-6b387faf0897"
      },
      "outputs": [
        {
          "data": {
            "text/plain": [
              "DecisionTreeClassifier(random_state=22)"
            ]
          },
          "execution_count": 17,
          "metadata": {},
          "output_type": "execute_result"
        }
      ],
      "source": [
        "dtree = DecisionTreeClassifier(random_state = 22)\n",
        "dt = dtree.fit(X_train,y_train)\n",
        "dt"
      ]
    },
    {
      "cell_type": "code",
      "execution_count": null,
      "metadata": {
        "colab": {
          "base_uri": "https://localhost:8080/"
        },
        "id": "nz0QXrNgaqBn",
        "outputId": "bedd80e3-68eb-4d9e-d3f2-9df50856bfee"
      },
      "outputs": [
        {
          "data": {
            "text/plain": [
              "DecisionTreeClassifier(random_state=22)"
            ]
          },
          "execution_count": 18,
          "metadata": {},
          "output_type": "execute_result"
        }
      ],
      "source": [
        "DecisionTreeClassifier(random_state=22)"
      ]
    },
    {
      "cell_type": "code",
      "execution_count": null,
      "metadata": {
        "colab": {
          "base_uri": "https://localhost:8080/"
        },
        "id": "XIvMEI4HaqBo",
        "outputId": "dc43e6c2-7fb2-4f0c-e0cc-002bfb774cb3"
      },
      "outputs": [
        {
          "name": "stdout",
          "output_type": "stream",
          "text": [
            "Train data accuracy: 0.9960794085887532\n",
            "Test data accuracy: 0.9626463992025915\n"
          ]
        }
      ],
      "source": [
        "y_pred = dt.predict(X_test)\n",
        "\n",
        "print(\"Train data accuracy:\",accuracy_score(y_true = y_train, y_pred = dtree.predict(X_train)))\n",
        "print(\"Test data accuracy:\",accuracy_score(y_true = y_test, y_pred = y_pred))"
      ]
    },
    {
      "cell_type": "code",
      "execution_count": null,
      "metadata": {
        "id": "2MRHu71laqBo"
      },
      "outputs": [],
      "source": [
        "from sklearn.ensemble import BaggingClassifier"
      ]
    },
    {
      "cell_type": "code",
      "execution_count": null,
      "metadata": {
        "id": "rDS8jwDwaqBo"
      },
      "outputs": [],
      "source": [
        "estimator_range = [2,4,6,8,10,12,14,16,25,30]"
      ]
    },
    {
      "cell_type": "code",
      "execution_count": null,
      "metadata": {
        "id": "JwAfQbplaqBo"
      },
      "outputs": [],
      "source": [
        "models = []\n",
        "scores = []\n",
        "\n",
        "for n_estimators in estimator_range:\n",
        "\n",
        "    # Create bagging classifier\n",
        "    clf = BaggingClassifier(n_estimators = n_estimators, random_state = 22)\n",
        "\n",
        "    # Fit the model\n",
        "    clf.fit(X_train, y_train)\n",
        "\n",
        "    # Append the model and score to their respective list\n",
        "    models.append(clf)\n",
        "    scores.append(accuracy_score(y_true = y_test, y_pred = clf.predict(X_test)))"
      ]
    },
    {
      "cell_type": "code",
      "execution_count": null,
      "metadata": {
        "colab": {
          "base_uri": "https://localhost:8080/",
          "height": 401
        },
        "id": "pUsyZzxjaqBo",
        "outputId": "565506bc-5a50-44d7-fee5-c709bcdaf60c"
      },
      "outputs": [
        {
          "data": {
            "image/png": "[encoded data removed]",
            "text/plain": [
              "<Figure size 648x432 with 1 Axes>"
            ]
          },
          "metadata": {},
          "output_type": "display_data"
        }
      ],
      "source": [
        "import matplotlib.pyplot as plt\n",
        "\n",
        "# Generate the plot of scores against number of estimators\n",
        "plt.figure(figsize=(9,6))\n",
        "plt.plot(estimator_range, scores)\n",
        "\n",
        "# Adjust labels and font (to make visable)\n",
        "plt.xlabel(\"n_estimators\", fontsize = 18)\n",
        "plt.ylabel(\"score\", fontsize = 18)\n",
        "plt.tick_params(labelsize = 16)\n",
        "\n",
        "# Visualize plot\n",
        "plt.show()"
      ]
    },
    {
      "cell_type": "code",
      "execution_count": null,
      "metadata": {
        "colab": {
          "base_uri": "https://localhost:8080/"
        },
        "id": "zjDAMxxJaqBp",
        "outputId": "ff5be51b-f530-4e5d-c710-90fd1cbc226c"
      },
      "outputs": [
        {
          "name": "stdout",
          "output_type": "stream",
          "text": [
            "accuracy train:\n",
            "0.9645983885704794\n",
            "accuracy test:\n",
            "0.9609269512263605\n"
          ]
        }
      ],
      "source": [
        "seed = 8\n",
        "kfold = model_selection.KFold(shuffle=True,n_splits = 3,\n",
        "                       random_state = seed)\n",
        "  \n",
        "# initialize the base classifier\n",
        "base_cls = DecisionTreeClassifier()\n",
        "  \n",
        "# no. of base classifier\n",
        "num_trees = 500\n",
        "  \n",
        "# bagging classifier\n",
        "model = BaggingClassifier(base_estimator = base_cls,\n",
        "                          n_estimators = num_trees,\n",
        "                          random_state = seed)\n",
        "  \n",
        "results = model_selection.cross_val_score(model, X_train, y_train, cv = kfold)\n",
        "print(\"accuracy train:\")\n",
        "print(results.mean())\n",
        "results = model_selection.cross_val_score(model, X_test, y_test, cv = kfold)\n",
        "print(\"accuracy test:\")\n",
        "print(results.mean())"
      ]
    },
    {
      "cell_type": "code",
      "execution_count": null,
      "metadata": {
        "colab": {
          "background_save": true,
          "base_uri": "https://localhost:8080/"
        },
        "id": "p4V7_faHaqBp",
        "outputId": "06c7d219-1d85-4bd9-d238-049ddea384ca"
      },
      "outputs": [
        {
          "name": "stdout",
          "output_type": "stream",
          "text": [
            "Learning rate:  0.01\n",
            "Accuracy score (training): 0.741\n",
            "Accuracy score (validation): 0.741\n",
            "Learning rate:  0.065\n",
            "Accuracy score (training): 0.892\n",
            "Accuracy score (validation): 0.892\n",
            "Learning rate:  0.02\n",
            "Accuracy score (training): 0.805\n",
            "Accuracy score (validation): 0.805\n",
            "Learning rate:  0.025\n",
            "Accuracy score (training): 0.819\n",
            "Accuracy score (validation): 0.818\n"
          ]
        }
      ],
      "source": [
        "lr_list = [0.01,0.065,0.02,0.025]\n",
        "#0.003,0.0025,0.35,0.25,,0.75,1\n",
        "for learning_rate in lr_list:\n",
        "    gb_clf = GradientBoostingClassifier(n_estimators=20, learning_rate=learning_rate, max_features=2, max_depth=2, random_state=0)\n",
        "    gb_clf.fit(X_train, y_train)\n",
        "\n",
        "    print(\"Learning rate: \", learning_rate)\n",
        "    print(\"Accuracy score (training): {0:.3f}\".format(gb_clf.score(X_train, y_train)))\n",
        "    print(\"Accuracy score (validation): {0:.3f}\".format(gb_clf.score(X_test, y_test)))"
      ]
    },
    {
      "cell_type": "code",
      "execution_count": null,
      "metadata": {
        "colab": {
          "background_save": true
        },
        "id": "EiwVtoQv9maD",
        "outputId": "da1eb8ed-2d61-47b3-9689-859a85c17b9c"
      },
      "outputs": [
        {
          "name": "stdout",
          "output_type": "stream",
          "text": [
            "Confusion Matrix:\n",
            "[[496   0   0 ...   0   0   0]\n",
            " [  0 309   0 ...   0   0   0]\n",
            " [  0   0 314 ...   0   0   0]\n",
            " ...\n",
            " [  0   0   0 ...   0   0   0]\n",
            " [  0   0   0 ...   0   0   0]\n",
            " [  0   0   0 ...   0   0   0]]\n",
            "Classification Report\n",
            "              precision    recall  f1-score   support\n",
            "\n",
            "           0       1.00      1.00      1.00       496\n",
            "           1       1.00      1.00      1.00       309\n",
            "           2       1.00      0.73      0.85       429\n",
            "           3       0.83      0.87      0.85       488\n",
            "           4       0.00      0.00      0.00       379\n",
            "           5       0.00      0.00      0.00       218\n",
            "           6       0.00      0.00      0.00       459\n",
            "           7       0.00      0.00      0.00       359\n",
            "           8       0.00      0.00      0.00       275\n",
            "           9       0.57      1.00      0.73       525\n",
            "          10       0.00      0.00      0.00       390\n",
            "          11       1.00      0.07      0.12       454\n",
            "          12       0.00      0.00      0.00       246\n",
            "          13       0.00      0.00      0.00       314\n",
            "          14       0.00      0.00      0.00       334\n",
            "          15       1.00      1.00      1.00       258\n",
            "          16       1.00      0.99      0.99       230\n",
            "          17       0.30      1.00      0.46       775\n",
            "          18       0.00      0.00      0.00       372\n",
            "          19       1.00      0.00      0.00       510\n",
            "          20       1.00      0.11      0.20       238\n",
            "          21       1.00      1.00      1.00       322\n",
            "          22       1.00      1.00      1.00       511\n",
            "          23       0.00      0.00      0.00       382\n",
            "          24       0.00      0.00      0.00       319\n",
            "          25       0.00      0.00      0.00       286\n",
            "          26       0.00      0.00      0.00       345\n",
            "          27       0.00      0.00      0.00       253\n",
            "          28       0.62      1.00      0.77       601\n",
            "          29       0.00      0.00      0.00       263\n",
            "          30       0.00      0.00      0.00       308\n",
            "          31       1.00      0.65      0.79       298\n",
            "          32       1.00      1.00      1.00       282\n",
            "          33       1.00      1.00      1.00       267\n",
            "          34       0.00      0.00      0.00       258\n",
            "          35       0.00      0.00      0.00       205\n",
            "          36       1.00      1.00      1.00       453\n",
            "          37       0.00      0.00      0.00       311\n",
            "          38       0.00      0.00      0.00       264\n",
            "          39       0.00      0.00      0.00       348\n",
            "          40       0.00      0.00      0.00       278\n",
            "          41       0.00      0.00      0.00       299\n",
            "          42       0.00      0.00      0.00       224\n",
            "          43       0.63      0.51      0.56       736\n",
            "          44       0.00      0.00      0.00       378\n",
            "          45       0.04      1.00      0.08       868\n",
            "          46       0.00      0.00      0.00       407\n",
            "          47       0.00      0.00      0.00       314\n",
            "          48       0.00      0.00      0.00       245\n",
            "          49       1.00      1.00      1.00       287\n",
            "          50       0.00      0.00      0.00       374\n",
            "          51       0.00      0.00      0.00       264\n",
            "          52       1.00      1.00      1.00       272\n",
            "          53       0.30      0.94      0.46       749\n",
            "          54       0.00      0.00      0.00       326\n",
            "          55       0.00      0.00      0.00       244\n",
            "          56       0.00      0.00      0.00       481\n",
            "          57       0.00      0.00      0.00       286\n",
            "          58       0.00      0.00      0.00       267\n",
            "          59       0.00      0.00      0.00       236\n",
            "          60       0.00      0.00      0.00       273\n",
            "          61       0.00      0.00      0.00       252\n",
            "          62       0.40      1.00      0.57       700\n",
            "          63       0.00      0.00      0.00       242\n",
            "          64       1.00      1.00      1.00       350\n",
            "          65       0.00      0.00      0.00       259\n",
            "          66       0.00      0.00      0.00       340\n",
            "          67       0.00      0.00      0.00       354\n",
            "          68       0.00      0.00      0.00       522\n",
            "          69       0.00      0.00      0.00       299\n",
            "          70       0.00      0.00      0.00       246\n",
            "          71       0.00      0.00      0.00       295\n",
            "          72       0.00      0.00      0.00       339\n",
            "          73       0.00      0.00      0.00       436\n",
            "          74       0.00      0.00      0.00       251\n",
            "          75       0.00      0.00      0.00       293\n",
            "          76       0.00      0.00      0.00       473\n",
            "          77       0.00      0.00      0.00       267\n",
            "          78       0.00      0.00      0.00       241\n",
            "          79       1.00      0.76      0.86       259\n",
            "          80       0.00      0.00      0.00       343\n",
            "          81       0.00      0.00      0.00       259\n",
            "          82       0.00      0.00      0.00       216\n",
            "          83       0.00      0.00      0.00       318\n",
            "          84       1.00      0.99      1.00       238\n",
            "          85       0.00      0.00      0.00       286\n",
            "          86       1.00      1.00      1.00       287\n",
            "          87       1.00      1.00      1.00       305\n",
            "          88       0.00      0.00      0.00       288\n",
            "          89       0.00      0.00      0.00       246\n",
            "          90       0.00      0.00      0.00       232\n",
            "          91       0.00      0.00      0.00       367\n",
            "          92       1.00      0.16      0.28       285\n",
            "          93       0.00      0.00      0.00       258\n",
            "          94       1.00      0.78      0.87       295\n",
            "          95       0.00      0.00      0.00       361\n",
            "          96       1.00      1.00      1.00       349\n",
            "          97       1.00      1.00      1.00       225\n",
            "          98       0.00      0.00      0.00       264\n",
            "          99       1.00      0.01      0.02       251\n",
            "         100       0.00      0.00      0.00       245\n",
            "         101       0.00      0.00      0.00       236\n",
            "         102       1.00      1.00      1.00       368\n",
            "         103       0.00      0.00      0.00       269\n",
            "         104       0.00      0.00      0.00       242\n",
            "         105       0.56      1.00      0.72       518\n",
            "         106       0.00      0.00      0.00       355\n",
            "         107       0.00      0.00      0.00       352\n",
            "         108       0.00      0.00      0.00       247\n",
            "         109       1.00      1.00      1.00       284\n",
            "         110       0.56      0.99      0.71       393\n",
            "         111       0.00      0.00      0.00       329\n",
            "         112       1.00      1.00      1.00       358\n",
            "         113       1.00      0.10      0.18       245\n",
            "         114       1.00      1.00      1.00       303\n",
            "         115       1.00      1.00      1.00       262\n",
            "         116       0.00      0.00      0.00       348\n",
            "         117       0.00      0.00      0.00       274\n",
            "         118       0.00      0.00      0.00       269\n",
            "\n",
            "    accuracy                           0.35     40130\n",
            "   macro avg       0.31      0.29      0.27     40130\n",
            "weighted avg       0.33      0.35      0.29     40130\n",
            "\n"
          ]
        },
        {
          "name": "stderr",
          "output_type": "stream",
          "text": [
            "/usr/local/lib/python3.7/dist-packages/sklearn/metrics/_classification.py:1318: UndefinedMetricWarning: Precision and F-score are ill-defined and being set to 0.0 in labels with no predicted samples. Use `zero_division` parameter to control this behavior.\n",
            "  _warn_prf(average, modifier, msg_start, len(result))\n",
            "/usr/local/lib/python3.7/dist-packages/sklearn/metrics/_classification.py:1318: UndefinedMetricWarning: Precision and F-score are ill-defined and being set to 0.0 in labels with no predicted samples. Use `zero_division` parameter to control this behavior.\n",
            "  _warn_prf(average, modifier, msg_start, len(result))\n",
            "/usr/local/lib/python3.7/dist-packages/sklearn/metrics/_classification.py:1318: UndefinedMetricWarning: Precision and F-score are ill-defined and being set to 0.0 in labels with no predicted samples. Use `zero_division` parameter to control this behavior.\n",
            "  _warn_prf(average, modifier, msg_start, len(result))\n"
          ]
        }
      ],
      "source": [
        "gb_clf2 = GradientBoostingClassifier(n_estimators=20, learning_rate=0.003, max_features=2, max_depth=2, random_state=0)\n",
        "gb_clf2.fit(X_train, y_train)\n",
        "predictions = gb_clf2.predict(X_test)\n",
        "\n",
        "print(\"Confusion Matrix:\")\n",
        "print(confusion_matrix(y_test, predictions))\n",
        "\n",
        "print(\"Classification Report\")\n",
        "print(classification_report(y_test, predictions))"
      ]
    }
  ],
  "metadata": {
    "accelerator": "TPU",
    "application/vnd.databricks.v1+notebook": {
      "dashboards": [],
      "language": "python",
      "notebookMetadata": {
        "mostRecentlyExecutedCommandWithImplicitDF": {
          "commandId": 4495286977337977,
          "dataframes": [
            "_sqldf"
          ]
        },
        "pythonIndentUnit": 4
      },
      "notebookName": "BaggingClassifier_amber",
      "notebookOrigID": 4495286977337974,
      "widgets": {}
    },
    "colab": {
      "machine_shape": "hm",
      "provenance": []
    },
    "gpuClass": "standard",
    "kernelspec": {
      "display_name": "Python 3",
      "name": "python3"
    },
    "language_info": {
      "name": "python"
    }
  },
  "nbformat": 4,
  "nbformat_minor": 0
}